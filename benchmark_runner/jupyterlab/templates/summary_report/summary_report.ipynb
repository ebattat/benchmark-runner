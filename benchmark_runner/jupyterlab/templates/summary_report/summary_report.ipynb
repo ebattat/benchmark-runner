{
 "cells": [
  {
   "cell_type": "markdown",
   "id": "c162d408-7aaf-459c-88a2-2292b9aeeadc",
   "metadata": {
    "tags": []
   },
   "source": [
    "# PerfCi CNV Summary Report"
   ]
  },
  {
   "cell_type": "raw",
   "id": "14a344ae-ba02-4690-9656-ebb13db1d5be",
   "metadata": {},
   "source": [
    "This notebook is designed to perform a PerfCI VM workloads comparison between OpenShift versions using the Geometric Mean \n",
    "between the 2 most recent major versions.\n",
    "\n",
    "    * HammerDB: Database TPM [Transaction Per Minute] for Mariadb, MSSQL, PostgreSQL\n",
    "    * Uperf: Network between two VMs\n",
    "    * Vdbench: VM Application storage: oltp1, oltp2, oltphw, odss2, odss128\n",
    "    * Bootstorm: Time till VM login\n",
    "\n",
    "How to use it:\n",
    "\n",
    "1. Run all and get the percentage results at the end.\n",
    "2. If you want different versions instead of the default, choose them and rerun the 'Workloads comparison' cell.\n",
    "3. The default number of fetch days is 365 days. It can be configured in the prerequisite variable ES_NUM_FETCH_DAYS = 365."
   ]
  },
  {
   "cell_type": "markdown",
   "id": "af1bc279-5f49-4e48-afc9-c9e4c5a566db",
   "metadata": {
    "tags": []
   },
   "source": [
    "## Prerequsite "
   ]
  },
  {
   "cell_type": "code",
   "execution_count": null,
   "id": "9892204d-7c2d-4c9f-9de0-8590e0c6bc4f",
   "metadata": {
    "scrolled": true,
    "tags": []
   },
   "outputs": [],
   "source": [
    "# The default number of fetch days from Elasticsearch that represent OpenShift Container Platform (OCP) versions.\n",
    "ELASTIC_NUM_FETCH_DAYS = 365\n",
    "\n",
    "# SET log level\n",
    "# logging\n",
    "import logging\n",
    "logger = logging.getLogger()\n",
    "logger.setLevel(logging.WARN)\n",
    "logging.info(\"Prerequisite\")\n",
    "\n",
    "import ipywidgets as widgets\n",
    "from IPython.display import display, HTML\n",
    "# Import ElasticSearchOperations class and initialized\n",
    "import configparser\n",
    "config = configparser.ConfigParser()\n",
    "config.read('elasticsearch.conf')\n",
    "es_host = config.get(\"data\", 'es_host') \n",
    "es_port = config.get(\"data\", 'es_port')\n",
    "es_user = config.get(\"data\", 'es_user') \n",
    "es_password = config.get(\"data\", 'es_password')\n",
    "\n",
    "from benchmark_runner.common.elasticsearch.elasticsearch_operations import ElasticSearchOperations\n",
    "from benchmark_runner.jupyterlab.templates.summary_report.summary_report_widgets import SummaryReportWidgets\n",
    "\n",
    "elasticsearch = ElasticSearchOperations(es_host=es_host, es_port=es_port, es_user=es_user, es_password=es_password)\n",
    "summary_report_widget = SummaryReportWidgets(elasticsearch=elasticsearch)\n",
    "\n",
    "# Default 365 days for ocp version fetch days \n",
    "summary_report_widget.set_fetch_ocp_version_days(num_fetch_days=ELASTIC_NUM_FETCH_DAYS)\n"
   ]
  },
  {
   "cell_type": "markdown",
   "id": "1f6bd81f-cb20-4661-847d-dbb13193edd5",
   "metadata": {
    "tags": []
   },
   "source": [
    "## Select OCP versions: [Ctrl/Cmd key]"
   ]
  },
  {
   "cell_type": "code",
   "execution_count": null,
   "id": "acca3ff6-8481-420d-ae06-baceefa11d6c",
   "metadata": {
    "scrolled": true,
    "tags": []
   },
   "outputs": [],
   "source": [
    "# There is an option to choose specific ocp versions instead of default\n",
    "summary_report_widget.choose_ocp_versions()"
   ]
  },
  {
   "cell_type": "markdown",
   "id": "f7fbaa0a-c144-45dc-8706-09447d7f4370",
   "metadata": {
    "tags": []
   },
   "source": [
    "## Workloads comparison [Be patient; it takes time ... ]"
   ]
  },
  {
   "cell_type": "code",
   "execution_count": null,
   "id": "2aa4a7a1-7e8f-4237-ae9a-47d3698904b7",
   "metadata": {
    "tags": []
   },
   "outputs": [],
   "source": [
    "# There is an option to choose specific workload comparison\n",
    "summary_report_widget.display_df(summary_report_widget.analyze_all_workload(workloads = [ 'hammerdb', 'uperf', 'vdbench', 'vdbench_scale', 'bootstorm', 'windows']))\n",
    "display(summary_report_widget.get_operators_versions())"
   ]
  }
 ],
 "metadata": {
  "kernelspec": {
   "display_name": "Python 3 (ipykernel)",
   "language": "python",
   "name": "python3"
  },
  "language_info": {
   "codemirror_mode": {
    "name": "ipython",
    "version": 3
   },
   "file_extension": ".py",
   "mimetype": "text/x-python",
   "name": "python",
   "nbconvert_exporter": "python",
   "pygments_lexer": "ipython3",
   "version": "3.11.6"
  }
 },
 "nbformat": 4,
 "nbformat_minor": 5
}
