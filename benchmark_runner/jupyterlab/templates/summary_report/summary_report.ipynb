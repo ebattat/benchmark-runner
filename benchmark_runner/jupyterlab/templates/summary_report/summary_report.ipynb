{
 "cells": [
  {
   "cell_type": "markdown",
   "id": "c162d408-7aaf-459c-88a2-2292b9aeeadc",
   "metadata": {
    "tags": []
   },
   "source": [
    "# PerfCi CNV Summary Report"
   ]
  },
  {
   "cell_type": "markdown",
   "id": "465cbea8-2033-4569-9712-ad494eaa459d",
   "metadata": {},
   "source": [
    "This notebook is designed to perform a PerfCI VM workloads comparison between OpenShift versions using the Geometric Mean \n",
    "between the 2 most recent major versions.\n",
    "\n",
    "    * HammerDB: Database TPM [Transaction Per Minute] for Mariadb, MSSQL, PostgreSQL\n",
    "    * Uperf: Network between two VMs\n",
    "    * Vdbench: VM Application storage: oltp1, oltp2, oltphw, odss2, odss128\n",
    "    * Bootstorm: Time till VM login\n",
    "\n",
    "How to use it:\n",
    "\n",
    "1. Run all and get the percentage results at the end.\n",
    "2. If you want different versions instead of the default, choose them and rerun the 'Workloads comparison' cell.\n",
    "3. The default number of fetch days is 365 days. It can be configured in the prerequisite variable ES_NUM_FETCH_DAYS = 365."
   ]
  },
  {
   "cell_type": "markdown",
   "id": "af1bc279-5f49-4e48-afc9-c9e4c5a566db",
   "metadata": {
    "tags": []
   },
   "source": [
    "## Prerequsite "
   ]
  },
  {
   "cell_type": "code",
   "execution_count": 1,
   "id": "9892204d-7c2d-4c9f-9de0-8590e0c6bc4f",
   "metadata": {
    "scrolled": true,
    "tags": []
   },
   "outputs": [],
   "source": [
    "\n",
    "# SET log level\n",
    "# logging\n",
    "import logging\n",
    "logger = logging.getLogger()\n",
    "logger.setLevel(logging.WARN)\n",
    "logging.info(\"Prerequisite\")\n",
    "\n",
    "import ipywidgets as widgets\n",
    "from IPython.display import display, HTML\n",
    "import os\n",
    "import configparser\n",
    "config = configparser.ConfigParser()\n",
    "config.read('data.conf')\n",
    "es_host = config.get(\"data\", 'es_host') \n",
    "es_port = config.get(\"data\", 'es_port')\n",
    "es_user = config.get(\"data\", 'es_user') \n",
    "es_password = config.get(\"data\", 'es_password')\n",
    "os.environ['grafana_url'] = config.get(\"data\", 'grafana_url')\n",
    "os.environ['network_speed'] = config.get(\"data\", 'network_speed')\n",
    "os.environ['fetch_ocp_versions_days'] = config.get(\"data\", 'fetch_ocp_versions_days')\n",
    "os.environ['filter_kind'] = config.get(\"data\", 'filter_kind')\n",
    "\n",
    "from benchmark_runner.common.elasticsearch.elasticsearch_operations import ElasticSearchOperations\n",
    "from benchmark_runner.jupyterlab.templates.summary_report.summary_report_widgets import SummaryReportWidgets\n",
    "\n",
    "elasticsearch = ElasticSearchOperations(es_host=es_host, es_port=es_port, es_user=es_user, es_password=es_password)\n",
    "summary_report_widget = SummaryReportWidgets(elasticsearch=elasticsearch)\n",
    "\n",
    "# Default 365 days for ocp version fetch days \n",
    "summary_report_widget.set_fetch_ocp_version_days(num_fetch_days=int(os.environ['fetch_ocp_versions_days']))\n"
   ]
  },
  {
   "cell_type": "markdown",
   "id": "1f6bd81f-cb20-4661-847d-dbb13193edd5",
   "metadata": {
    "tags": []
   },
   "source": [
    "## Select OCP versions: [Ctrl/Cmd key]"
   ]
  },
  {
   "cell_type": "code",
   "execution_count": 2,
   "id": "acca3ff6-8481-420d-ae06-baceefa11d6c",
   "metadata": {
    "scrolled": true,
    "tags": []
   },
   "outputs": [
    {
     "data": {
      "application/vnd.jupyter.widget-view+json": {
       "model_id": "cd53fd88133a48589093004329798345",
       "version_major": 2,
       "version_minor": 0
      },
      "text/plain": [
       "SelectMultiple(index=(13, 0), layout=Layout(height='300px'), options=('4.14.10', '4.14.8', '4.14.7', '4.14.6',…"
      ]
     },
     "metadata": {},
     "output_type": "display_data"
    }
   ],
   "source": [
    "# There is an option to choose specific ocp versions instead of default\n",
    "summary_report_widget.choose_ocp_versions()"
   ]
  },
  {
   "cell_type": "markdown",
   "id": "f7fbaa0a-c144-45dc-8706-09447d7f4370",
   "metadata": {
    "tags": []
   },
   "source": [
    "## Workloads comparison"
   ]
  },
  {
   "cell_type": "code",
   "execution_count": 3,
   "id": "2aa4a7a1-7e8f-4237-ae9a-47d3698904b7",
   "metadata": {
    "tags": []
   },
   "outputs": [
    {
     "data": {
      "text/html": [
       "<style type=\"text/css\">\n",
       "#T_ec1b0 th:not(:last-child) {\n",
       "  text-align: left;\n",
       "}\n",
       "#T_ec1b0 td:not(:last-child) {\n",
       "  text-align: left;\n",
       "}\n",
       "#T_ec1b0_row0_col3, #T_ec1b0_row3_col3, #T_ec1b0_row5_col3, #T_ec1b0_row6_col3, #T_ec1b0_row7_col3, #T_ec1b0_row8_col3, #T_ec1b0_row9_col3, #T_ec1b0_row11_col3, #T_ec1b0_row12_col3, #T_ec1b0_row13_col3, #T_ec1b0_row14_col3 {\n",
       "  color: green;\n",
       "  text-align: center;\n",
       "}\n",
       "#T_ec1b0_row1_col3, #T_ec1b0_row2_col3, #T_ec1b0_row4_col3 {\n",
       "  color: black;\n",
       "  text-align: center;\n",
       "}\n",
       "#T_ec1b0_row10_col3 {\n",
       "  color: orange;\n",
       "  text-align: center;\n",
       "}\n",
       "</style>\n",
       "<table id=\"T_ec1b0\">\n",
       "  <thead>\n",
       "    <tr>\n",
       "      <th class=\"blank level0\" >&nbsp;</th>\n",
       "      <th id=\"T_ec1b0_level0_col0\" class=\"col_heading level0 col0\" >workload</th>\n",
       "      <th id=\"T_ec1b0_level0_col1\" class=\"col_heading level0 col1\" >metric</th>\n",
       "      <th id=\"T_ec1b0_level0_col2\" class=\"col_heading level0 col2\" >storage type</th>\n",
       "      <th id=\"T_ec1b0_level0_col3\" class=\"col_heading level0 col3\" >('4.13.29', '4.14.10')</th>\n",
       "    </tr>\n",
       "  </thead>\n",
       "  <tbody>\n",
       "    <tr>\n",
       "      <th id=\"T_ec1b0_level0_row0\" class=\"row_heading level0 row0\" >0</th>\n",
       "      <td id=\"T_ec1b0_row0_col0\" class=\"data row0 col0\" >hammerdb</td>\n",
       "      <td id=\"T_ec1b0_row0_col1\" class=\"data row0 col1\" >TPM (mariadb)</td>\n",
       "      <td id=\"T_ec1b0_row0_col2\" class=\"data row0 col2\" >ODF</td>\n",
       "      <td id=\"T_ec1b0_row0_col3\" class=\"data row0 col3\" >3.58%</td>\n",
       "    </tr>\n",
       "    <tr>\n",
       "      <th id=\"T_ec1b0_level0_row1\" class=\"row_heading level0 row1\" >1</th>\n",
       "      <td id=\"T_ec1b0_row1_col0\" class=\"data row1 col0\" >hammerdb</td>\n",
       "      <td id=\"T_ec1b0_row1_col1\" class=\"data row1 col1\" >TPM (mssql)</td>\n",
       "      <td id=\"T_ec1b0_row1_col2\" class=\"data row1 col2\" >ODF</td>\n",
       "      <td id=\"T_ec1b0_row1_col3\" class=\"data row1 col3\" >-0.15%</td>\n",
       "    </tr>\n",
       "    <tr>\n",
       "      <th id=\"T_ec1b0_level0_row2\" class=\"row_heading level0 row2\" >2</th>\n",
       "      <td id=\"T_ec1b0_row2_col0\" class=\"data row2 col0\" >hammerdb</td>\n",
       "      <td id=\"T_ec1b0_row2_col1\" class=\"data row2 col1\" >TPM (postgresql)</td>\n",
       "      <td id=\"T_ec1b0_row2_col2\" class=\"data row2 col2\" >ODF</td>\n",
       "      <td id=\"T_ec1b0_row2_col3\" class=\"data row2 col3\" >-0.83%</td>\n",
       "    </tr>\n",
       "    <tr>\n",
       "      <th id=\"T_ec1b0_level0_row3\" class=\"row_heading level0 row3\" >3</th>\n",
       "      <td id=\"T_ec1b0_row3_col0\" class=\"data row3 col0\" >hammerdb</td>\n",
       "      <td id=\"T_ec1b0_row3_col1\" class=\"data row3 col1\" >TPM (postgresql)</td>\n",
       "      <td id=\"T_ec1b0_row3_col2\" class=\"data row3 col2\" >LSO</td>\n",
       "      <td id=\"T_ec1b0_row3_col3\" class=\"data row3 col3\" >12.07%</td>\n",
       "    </tr>\n",
       "    <tr>\n",
       "      <th id=\"T_ec1b0_level0_row4\" class=\"row_heading level0 row4\" >4</th>\n",
       "      <td id=\"T_ec1b0_row4_col0\" class=\"data row4 col0\" >uperf</td>\n",
       "      <td id=\"T_ec1b0_row4_col1\" class=\"data row4 col1\" >Throughput</td>\n",
       "      <td id=\"T_ec1b0_row4_col2\" class=\"data row4 col2\" >Ephemeral</td>\n",
       "      <td id=\"T_ec1b0_row4_col3\" class=\"data row4 col3\" >-4.6%</td>\n",
       "    </tr>\n",
       "    <tr>\n",
       "      <th id=\"T_ec1b0_level0_row5\" class=\"row_heading level0 row5\" >5</th>\n",
       "      <td id=\"T_ec1b0_row5_col0\" class=\"data row5 col0\" >uperf</td>\n",
       "      <td id=\"T_ec1b0_row5_col1\" class=\"data row5 col1\" >Latency</td>\n",
       "      <td id=\"T_ec1b0_row5_col2\" class=\"data row5 col2\" >Ephemeral</td>\n",
       "      <td id=\"T_ec1b0_row5_col3\" class=\"data row5 col3\" >2.83%</td>\n",
       "    </tr>\n",
       "    <tr>\n",
       "      <th id=\"T_ec1b0_level0_row6\" class=\"row_heading level0 row6\" >6</th>\n",
       "      <td id=\"T_ec1b0_row6_col0\" class=\"data row6 col0\" >vdbench</td>\n",
       "      <td id=\"T_ec1b0_row6_col1\" class=\"data row6 col1\" >Iops</td>\n",
       "      <td id=\"T_ec1b0_row6_col2\" class=\"data row6 col2\" >ODF</td>\n",
       "      <td id=\"T_ec1b0_row6_col3\" class=\"data row6 col3\" >4.52%</td>\n",
       "    </tr>\n",
       "    <tr>\n",
       "      <th id=\"T_ec1b0_level0_row7\" class=\"row_heading level0 row7\" >7</th>\n",
       "      <td id=\"T_ec1b0_row7_col0\" class=\"data row7 col0\" >vdbench</td>\n",
       "      <td id=\"T_ec1b0_row7_col1\" class=\"data row7 col1\" >Latency</td>\n",
       "      <td id=\"T_ec1b0_row7_col2\" class=\"data row7 col2\" >ODF</td>\n",
       "      <td id=\"T_ec1b0_row7_col3\" class=\"data row7 col3\" >6.15%</td>\n",
       "    </tr>\n",
       "    <tr>\n",
       "      <th id=\"T_ec1b0_level0_row8\" class=\"row_heading level0 row8\" >8</th>\n",
       "      <td id=\"T_ec1b0_row8_col0\" class=\"data row8 col0\" >vdbench_scale</td>\n",
       "      <td id=\"T_ec1b0_row8_col1\" class=\"data row8 col1\" >Iops</td>\n",
       "      <td id=\"T_ec1b0_row8_col2\" class=\"data row8 col2\" >ODF</td>\n",
       "      <td id=\"T_ec1b0_row8_col3\" class=\"data row8 col3\" >27.43%</td>\n",
       "    </tr>\n",
       "    <tr>\n",
       "      <th id=\"T_ec1b0_level0_row9\" class=\"row_heading level0 row9\" >9</th>\n",
       "      <td id=\"T_ec1b0_row9_col0\" class=\"data row9 col0\" >vdbench_scale</td>\n",
       "      <td id=\"T_ec1b0_row9_col1\" class=\"data row9 col1\" >Latency</td>\n",
       "      <td id=\"T_ec1b0_row9_col2\" class=\"data row9 col2\" >ODF</td>\n",
       "      <td id=\"T_ec1b0_row9_col3\" class=\"data row9 col3\" >23.11%</td>\n",
       "    </tr>\n",
       "    <tr>\n",
       "      <th id=\"T_ec1b0_level0_row10\" class=\"row_heading level0 row10\" >10</th>\n",
       "      <td id=\"T_ec1b0_row10_col0\" class=\"data row10 col0\" >bootstorm</td>\n",
       "      <td id=\"T_ec1b0_row10_col1\" class=\"data row10 col1\" >240 VMs run time (fedora37)</td>\n",
       "      <td id=\"T_ec1b0_row10_col2\" class=\"data row10 col2\" >Ephemeral</td>\n",
       "      <td id=\"T_ec1b0_row10_col3\" class=\"data row10 col3\" >-33.83%</td>\n",
       "    </tr>\n",
       "    <tr>\n",
       "      <th id=\"T_ec1b0_level0_row11\" class=\"row_heading level0 row11\" >11</th>\n",
       "      <td id=\"T_ec1b0_row11_col0\" class=\"data row11 col0\" >bootstorm</td>\n",
       "      <td id=\"T_ec1b0_row11_col1\" class=\"data row11 col1\" >111 VMs run time (windows10)</td>\n",
       "      <td id=\"T_ec1b0_row11_col2\" class=\"data row11 col2\" >ODF (virtio)</td>\n",
       "      <td id=\"T_ec1b0_row11_col3\" class=\"data row11 col3\" >23.8%</td>\n",
       "    </tr>\n",
       "    <tr>\n",
       "      <th id=\"T_ec1b0_level0_row12\" class=\"row_heading level0 row12\" >12</th>\n",
       "      <td id=\"T_ec1b0_row12_col0\" class=\"data row12 col0\" >bootstorm</td>\n",
       "      <td id=\"T_ec1b0_row12_col1\" class=\"data row12 col1\" >111 VMs run time (windows11)</td>\n",
       "      <td id=\"T_ec1b0_row12_col2\" class=\"data row12 col2\" >ODF (virtio)</td>\n",
       "      <td id=\"T_ec1b0_row12_col3\" class=\"data row12 col3\" >8.17%</td>\n",
       "    </tr>\n",
       "    <tr>\n",
       "      <th id=\"T_ec1b0_level0_row13\" class=\"row_heading level0 row13\" >13</th>\n",
       "      <td id=\"T_ec1b0_row13_col0\" class=\"data row13 col0\" >bootstorm</td>\n",
       "      <td id=\"T_ec1b0_row13_col1\" class=\"data row13 col1\" >111 VMs run time (windows_server_2019)</td>\n",
       "      <td id=\"T_ec1b0_row13_col2\" class=\"data row13 col2\" >ODF (virtio)</td>\n",
       "      <td id=\"T_ec1b0_row13_col3\" class=\"data row13 col3\" >25.13%</td>\n",
       "    </tr>\n",
       "    <tr>\n",
       "      <th id=\"T_ec1b0_level0_row14\" class=\"row_heading level0 row14\" >14</th>\n",
       "      <td id=\"T_ec1b0_row14_col0\" class=\"data row14 col0\" >bootstorm</td>\n",
       "      <td id=\"T_ec1b0_row14_col1\" class=\"data row14 col1\" >111 VMs run time (windows_server_2022)</td>\n",
       "      <td id=\"T_ec1b0_row14_col2\" class=\"data row14 col2\" >ODF (virtio)</td>\n",
       "      <td id=\"T_ec1b0_row14_col3\" class=\"data row14 col3\" >30.53%</td>\n",
       "    </tr>\n",
       "  </tbody>\n",
       "</table>\n"
      ],
      "text/plain": [
       "<IPython.core.display.HTML object>"
      ]
     },
     "metadata": {},
     "output_type": "display_data"
    },
    {
     "data": {
      "text/html": [
       "<div><span style=\"color: black; font-weight: bold;\"> Network Speed: </span><span style=\"color: blue;\">25</span></div>"
      ],
      "text/plain": [
       "<IPython.core.display.HTML object>"
      ]
     },
     "metadata": {},
     "output_type": "display_data"
    },
    {
     "data": {
      "text/html": [
       "<div><span style=\"color: black; font-weight: bold;\">** For more details Grafana url:</span> <a href=\"http://cnv-intel-15.perf.eng.bos2.dc.redhat.com:3001\" style=\"color: blue;\" target=\"_blank\">http://cnv-intel-15.perf.eng.bos2.dc.redhat.com:3001</a></div>"
      ],
      "text/plain": [
       "<IPython.core.display.HTML object>"
      ]
     },
     "metadata": {},
     "output_type": "display_data"
    }
   ],
   "source": [
    "# There is an option to choose specific workload comparison\n",
    "summary_report_widget.display_df(summary_report_widget.analyze_all_workload(workloads = ['hammerdb', 'hammerdb_lso', 'uperf', 'vdbench', 'vdbench_scale', 'bootstorm', 'windows']))"
   ]
  },
  {
   "cell_type": "markdown",
   "id": "994ebc74-67ba-404f-90b0-f64d390ee214",
   "metadata": {},
   "source": [
    "## Comparison details"
   ]
  },
  {
   "cell_type": "code",
   "execution_count": 4,
   "id": "3c50022a-0648-4828-90c4-1d4953e6b71c",
   "metadata": {},
   "outputs": [
    {
     "data": {
      "text/html": [
       "\n",
       "        <style>\n",
       "        th, td {\n",
       "            text-align: left !important;\n",
       "        }\n",
       "        </style>\n",
       "        <table border=\"1\" class=\"dataframe\">\n",
       "  <thead>\n",
       "    <tr style=\"text-align: right;\">\n",
       "      <th>ocp_version</th>\n",
       "      <th>odf_version</th>\n",
       "      <th>cnv_nightly_version</th>\n",
       "      <th>sample_dates</th>\n",
       "      <th>uuid</th>\n",
       "    </tr>\n",
       "  </thead>\n",
       "  <tbody>\n",
       "    <tr>\n",
       "      <td>4.13.29</td>\n",
       "      <td>[4.12.10-2]</td>\n",
       "      <td>[4.13.7-315]</td>\n",
       "      <td>[2024-01-14, 2024-01-16]</td>\n",
       "      <td>[1e48c09b-2833-5724-bad4-3774f5e0a80f, 12476740-9774-56ed-9861-06b3259c4688]</td>\n",
       "    </tr>\n",
       "    <tr>\n",
       "      <td>4.14.10</td>\n",
       "      <td>[4.13.6-1]</td>\n",
       "      <td>[4.14.3-168, 4.14.3-123]</td>\n",
       "      <td>[2024-01-23, 2024-01-20, 2024-01-24, 2024-01-19, 2024-01-26]</td>\n",
       "      <td>[0d9a9919-84ef-584e-b232-5480cc691325, a3c73e8b-f8ab-5d30-ab24-a41a490b663d, 2eba04a1-2293-5ad2-bcc1-5556b427f3de, 25026148-f119-5f28-a6ca-849d72cf9d27, 2c2b5296-cfba-5b6c-9af6-70e15016690e]</td>\n",
       "    </tr>\n",
       "  </tbody>\n",
       "</table>"
      ],
      "text/plain": [
       "<IPython.core.display.HTML object>"
      ]
     },
     "metadata": {},
     "output_type": "display_data"
    }
   ],
   "source": [
    "summary_report_widget.get_comparison_details()"
   ]
  },
  {
   "cell_type": "code",
   "execution_count": null,
   "id": "b7f7f9ea-8cc9-4a8b-8de0-4d5ac4d17f10",
   "metadata": {},
   "outputs": [],
   "source": []
  }
 ],
 "metadata": {
  "kernelspec": {
   "display_name": "Python 3 (ipykernel)",
   "language": "python",
   "name": "python3"
  },
  "language_info": {
   "codemirror_mode": {
    "name": "ipython",
    "version": 3
   },
   "file_extension": ".py",
   "mimetype": "text/x-python",
   "name": "python",
   "nbconvert_exporter": "python",
   "pygments_lexer": "ipython3",
   "version": "3.11.7"
  }
 },
 "nbformat": 4,
 "nbformat_minor": 5
}
